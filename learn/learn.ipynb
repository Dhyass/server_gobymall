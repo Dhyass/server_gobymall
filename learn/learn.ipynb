{
 "cells": [
  {
   "cell_type": "markdown",
   "metadata": {},
   "source": [
    "create pagage  : npm init -y\n",
    "// intall libray\n",
    "npm i express bcrypt body_parser cloudary cookie_parser cors dotenv formidable jsonwebtoken moment mongoose socket.io stripe uuid\n",
    "\n",
    "\n",
    "//////////\n",
    "yarn add  express bcrypt body-parser clou\n",
    "dinary cookie-parser cors dotenv formidable jsonwebtoken moment mongoose sock\n",
    "et.io stripe uuid"
   ]
  }
 ],
 "metadata": {
  "language_info": {
   "name": "python"
  }
 },
 "nbformat": 4,
 "nbformat_minor": 2
}
